{
 "cells": [
  {
   "cell_type": "code",
   "execution_count": 1,
   "id": "34cd7d79",
   "metadata": {
    "_cell_guid": "b1076dfc-b9ad-4769-8c92-a6c4dae69d19",
    "_kg_hide-input": true,
    "_uuid": "8f2839f25d086af736a60e9eeb907d3b93b6e0e5",
    "execution": {
     "iopub.execute_input": "2023-07-14T23:23:31.480890Z",
     "iopub.status.busy": "2023-07-14T23:23:31.480439Z",
     "iopub.status.idle": "2023-07-14T23:23:31.521395Z",
     "shell.execute_reply": "2023-07-14T23:23:31.520261Z"
    },
    "papermill": {
     "duration": 0.047632,
     "end_time": "2023-07-14T23:23:31.524031",
     "exception": false,
     "start_time": "2023-07-14T23:23:31.476399",
     "status": "completed"
    },
    "tags": []
   },
   "outputs": [],
   "source": [
    "import numpy as np \n",
    "import pandas as pd \n",
    "\n",
    "auto = pd.read_csv('/kaggle/input/islr-datasets-auto/Auto.csv')\n",
    "pd.set_option('display.max_rows', None)\n",
    "\n",
    "#getting rid of any missing values; these turned out to be '?' initially, so they're first replaced with\n",
    "#NaN, and then discarded\n",
    "auto.replace('?', np.nan, inplace=True)\n",
    "auto1 = auto.dropna() "
   ]
  },
  {
   "cell_type": "code",
   "execution_count": null,
   "id": "c68a2168",
   "metadata": {
    "papermill": {
     "duration": 0.001468,
     "end_time": "2023-07-14T23:23:31.527666",
     "exception": false,
     "start_time": "2023-07-14T23:23:31.526198",
     "status": "completed"
    },
    "tags": []
   },
   "outputs": [],
   "source": []
  },
  {
   "cell_type": "code",
   "execution_count": null,
   "id": "a141d290",
   "metadata": {
    "papermill": {
     "duration": 0.001369,
     "end_time": "2023-07-14T23:23:31.530637",
     "exception": false,
     "start_time": "2023-07-14T23:23:31.529268",
     "status": "completed"
    },
    "tags": []
   },
   "outputs": [],
   "source": []
  },
  {
   "cell_type": "code",
   "execution_count": null,
   "id": "3fe2a146",
   "metadata": {
    "papermill": {
     "duration": 0.001353,
     "end_time": "2023-07-14T23:23:31.533596",
     "exception": false,
     "start_time": "2023-07-14T23:23:31.532243",
     "status": "completed"
    },
    "tags": []
   },
   "outputs": [],
   "source": []
  }
 ],
 "metadata": {
  "kernelspec": {
   "display_name": "Python 3",
   "language": "python",
   "name": "python3"
  },
  "language_info": {
   "codemirror_mode": {
    "name": "ipython",
    "version": 3
   },
   "file_extension": ".py",
   "mimetype": "text/x-python",
   "name": "python",
   "nbconvert_exporter": "python",
   "pygments_lexer": "ipython3",
   "version": "3.10.12"
  },
  "papermill": {
   "default_parameters": {},
   "duration": 10.246291,
   "end_time": "2023-07-14T23:23:32.357541",
   "environment_variables": {},
   "exception": null,
   "input_path": "__notebook__.ipynb",
   "output_path": "__notebook__.ipynb",
   "parameters": {},
   "start_time": "2023-07-14T23:23:22.111250",
   "version": "2.4.0"
  }
 },
 "nbformat": 4,
 "nbformat_minor": 5
}
